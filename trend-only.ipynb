{
 "cells": [
  {
   "cell_type": "code",
   "execution_count": 1,
   "id": "af7841b6",
   "metadata": {
    "_cell_guid": "b1076dfc-b9ad-4769-8c92-a6c4dae69d19",
    "_uuid": "8f2839f25d086af736a60e9eeb907d3b93b6e0e5",
    "execution": {
     "iopub.execute_input": "2023-05-17T16:01:12.848639Z",
     "iopub.status.busy": "2023-05-17T16:01:12.848247Z",
     "iopub.status.idle": "2023-05-17T16:01:12.876052Z",
     "shell.execute_reply": "2023-05-17T16:01:12.874497Z"
    },
    "papermill": {
     "duration": 0.038044,
     "end_time": "2023-05-17T16:01:12.879081",
     "exception": false,
     "start_time": "2023-05-17T16:01:12.841037",
     "status": "completed"
    },
    "tags": []
   },
   "outputs": [
    {
     "name": "stdout",
     "output_type": "stream",
     "text": [
      "/kaggle/input/amp-parkinsons-disease-progression-prediction/train_proteins.csv\n",
      "/kaggle/input/amp-parkinsons-disease-progression-prediction/train_clinical_data.csv\n",
      "/kaggle/input/amp-parkinsons-disease-progression-prediction/public_timeseries_testing_util.py\n",
      "/kaggle/input/amp-parkinsons-disease-progression-prediction/supplemental_clinical_data.csv\n",
      "/kaggle/input/amp-parkinsons-disease-progression-prediction/train_peptides.csv\n",
      "/kaggle/input/amp-parkinsons-disease-progression-prediction/amp_pd_peptide/competition.cpython-37m-x86_64-linux-gnu.so\n",
      "/kaggle/input/amp-parkinsons-disease-progression-prediction/amp_pd_peptide/__init__.py\n",
      "/kaggle/input/amp-parkinsons-disease-progression-prediction/amp_pd_peptide_310/competition.cpython-310-x86_64-linux-gnu.so\n",
      "/kaggle/input/amp-parkinsons-disease-progression-prediction/amp_pd_peptide_310/__init__.py\n",
      "/kaggle/input/amp-parkinsons-disease-progression-prediction/example_test_files/sample_submission.csv\n",
      "/kaggle/input/amp-parkinsons-disease-progression-prediction/example_test_files/test_proteins.csv\n",
      "/kaggle/input/amp-parkinsons-disease-progression-prediction/example_test_files/test_peptides.csv\n",
      "/kaggle/input/amp-parkinsons-disease-progression-prediction/example_test_files/test.csv\n"
     ]
    }
   ],
   "source": [
    "# This Python 3 environment comes with many helpful analytics libraries installed\n",
    "# It is defined by the kaggle/python Docker image: https://github.com/kaggle/docker-python\n",
    "# For example, here's several helpful packages to load\n",
    "\n",
    "import numpy as np # linear algebra\n",
    "import pandas as pd # data processing, CSV file I/O (e.g. pd.read_csv)\n",
    "\n",
    "# Input data files are available in the read-only \"../input/\" directory\n",
    "# For example, running this (by clicking run or pressing Shift+Enter) will list all files under the input directory\n",
    "\n",
    "import os\n",
    "for dirname, _, filenames in os.walk('/kaggle/input'):\n",
    "    for filename in filenames:\n",
    "        print(os.path.join(dirname, filename))\n",
    "\n",
    "# You can write up to 20GB to the current directory (/kaggle/working/) that gets preserved as output when you create a version using \"Save & Run All\" \n",
    "# You can also write temporary files to /kaggle/temp/, but they won't be saved outside of the current session"
   ]
  },
  {
   "cell_type": "code",
   "execution_count": 2,
   "id": "2ca43319",
   "metadata": {
    "execution": {
     "iopub.execute_input": "2023-05-17T16:01:12.893754Z",
     "iopub.status.busy": "2023-05-17T16:01:12.892868Z",
     "iopub.status.idle": "2023-05-17T16:01:12.898417Z",
     "shell.execute_reply": "2023-05-17T16:01:12.897444Z"
    },
    "papermill": {
     "duration": 0.014685,
     "end_time": "2023-05-17T16:01:12.900870",
     "exception": false,
     "start_time": "2023-05-17T16:01:12.886185",
     "status": "completed"
    },
    "tags": []
   },
   "outputs": [],
   "source": [
    "# suppress warnings \n",
    "import warnings \n",
    "warnings.simplefilter(action='ignore')"
   ]
  },
  {
   "cell_type": "code",
   "execution_count": 3,
   "id": "122ec043",
   "metadata": {
    "execution": {
     "iopub.execute_input": "2023-05-17T16:01:12.913673Z",
     "iopub.status.busy": "2023-05-17T16:01:12.913031Z",
     "iopub.status.idle": "2023-05-17T16:01:14.408893Z",
     "shell.execute_reply": "2023-05-17T16:01:14.407885Z"
    },
    "papermill": {
     "duration": 1.505796,
     "end_time": "2023-05-17T16:01:14.412152",
     "exception": false,
     "start_time": "2023-05-17T16:01:12.906356",
     "status": "completed"
    },
    "tags": []
   },
   "outputs": [],
   "source": [
    "# Data cleaning packages.\n",
    "from sklearn.preprocessing import StandardScaler, OneHotEncoder\n",
    "from sklearn.impute import KNNImputer"
   ]
  },
  {
   "cell_type": "code",
   "execution_count": 4,
   "id": "c8edd855",
   "metadata": {
    "execution": {
     "iopub.execute_input": "2023-05-17T16:01:14.426018Z",
     "iopub.status.busy": "2023-05-17T16:01:14.425325Z",
     "iopub.status.idle": "2023-05-17T16:01:16.350479Z",
     "shell.execute_reply": "2023-05-17T16:01:16.349336Z"
    },
    "papermill": {
     "duration": 1.935089,
     "end_time": "2023-05-17T16:01:16.353553",
     "exception": false,
     "start_time": "2023-05-17T16:01:14.418464",
     "status": "completed"
    },
    "tags": []
   },
   "outputs": [],
   "source": [
    "# Data Read\n",
    "train_clinical = pd.read_csv(\"/kaggle/input/amp-parkinsons-disease-progression-prediction/train_clinical_data.csv\")\n",
    "train_protein = pd.read_csv(\"/kaggle/input/amp-parkinsons-disease-progression-prediction/train_proteins.csv\")\n",
    "train_peptide = pd.read_csv(\"/kaggle/input/amp-parkinsons-disease-progression-prediction/train_peptides.csv\")\n",
    "clinical_sup = pd.read_csv('/kaggle/input/amp-parkinsons-disease-progression-prediction/supplemental_clinical_data.csv')"
   ]
  },
  {
   "cell_type": "code",
   "execution_count": 5,
   "id": "bdda09a3",
   "metadata": {
    "execution": {
     "iopub.execute_input": "2023-05-17T16:01:16.365518Z",
     "iopub.status.busy": "2023-05-17T16:01:16.365085Z",
     "iopub.status.idle": "2023-05-17T16:01:16.400305Z",
     "shell.execute_reply": "2023-05-17T16:01:16.398615Z"
    },
    "papermill": {
     "duration": 0.044153,
     "end_time": "2023-05-17T16:01:16.402756",
     "exception": false,
     "start_time": "2023-05-17T16:01:16.358603",
     "status": "completed"
    },
    "tags": []
   },
   "outputs": [
    {
     "name": "stdout",
     "output_type": "stream",
     "text": [
      "  visit_id  patient_id  visit_month  updrs_1  updrs_2  updrs_3  updrs_4  \\\n",
      "0     55_0          55            0     10.0      6.0     15.0      NaN   \n",
      "1     55_3          55            3     10.0      7.0     25.0      NaN   \n",
      "2     55_6          55            6      8.0     10.0     34.0      NaN   \n",
      "3     55_9          55            9      8.0      9.0     30.0      0.0   \n",
      "4    55_12          55           12     10.0     10.0     41.0      0.0   \n",
      "\n",
      "  upd23b_clinical_state_on_medication  \n",
      "0                                 NaN  \n",
      "1                                 NaN  \n",
      "2                                 NaN  \n",
      "3                                  On  \n",
      "4                                  On  \n",
      "      visit_id  patient_id  visit_month  updrs_1  updrs_2  updrs_3  updrs_4  \\\n",
      "2218   65382_0       65382            0      NaN      NaN      0.0      NaN   \n",
      "2219   65405_0       65405            0      5.0     16.0     31.0      0.0   \n",
      "2220   65405_5       65405            5      NaN      NaN     57.0      NaN   \n",
      "2221   65530_0       65530            0     10.0      6.0     24.0      0.0   \n",
      "2222  65530_36       65530           36      8.0      4.0     15.0      4.0   \n",
      "\n",
      "     upd23b_clinical_state_on_medication  \n",
      "2218                                 NaN  \n",
      "2219                                 NaN  \n",
      "2220                                 NaN  \n",
      "2221                                 NaN  \n",
      "2222                                  On  \n"
     ]
    }
   ],
   "source": [
    "# Trend Only - responses + vist_month\n",
    "# Both data with and without protein info\n",
    "train = pd.concat([train_clinical, clinical_sup])\n",
    "print(train.head())\n",
    "print(train.tail())"
   ]
  },
  {
   "cell_type": "code",
   "execution_count": 6,
   "id": "903cd566",
   "metadata": {
    "execution": {
     "iopub.execute_input": "2023-05-17T16:01:16.415305Z",
     "iopub.status.busy": "2023-05-17T16:01:16.414076Z",
     "iopub.status.idle": "2023-05-17T16:01:16.612789Z",
     "shell.execute_reply": "2023-05-17T16:01:16.611331Z"
    },
    "papermill": {
     "duration": 0.207964,
     "end_time": "2023-05-17T16:01:16.615776",
     "exception": false,
     "start_time": "2023-05-17T16:01:16.407812",
     "status": "completed"
    },
    "tags": []
   },
   "outputs": [],
   "source": [
    "# Model Imports\n",
    "#from sklearn.ensemble import RandomForestRegressor\n",
    "\n",
    "#from sklearn.ensemble import ExtraTreesRegressor\n",
    "\n",
    "from sklearn.ensemble import GradientBoostingRegressor\n",
    "from sklearn.model_selection import GridSearchCV"
   ]
  },
  {
   "cell_type": "code",
   "execution_count": 7,
   "id": "cdedf94a",
   "metadata": {
    "execution": {
     "iopub.execute_input": "2023-05-17T16:01:16.628206Z",
     "iopub.status.busy": "2023-05-17T16:01:16.627768Z",
     "iopub.status.idle": "2023-05-17T16:01:16.633643Z",
     "shell.execute_reply": "2023-05-17T16:01:16.632393Z"
    },
    "papermill": {
     "duration": 0.014711,
     "end_time": "2023-05-17T16:01:16.636030",
     "exception": false,
     "start_time": "2023-05-17T16:01:16.621319",
     "status": "completed"
    },
    "tags": []
   },
   "outputs": [],
   "source": [
    "# Tuning Grid \n",
    "xgb_grid = {'n_estimators': [100, 200],\n",
    "            'max_depth': [3, 10],\n",
    "            'min_samples_split': [2],\n",
    "            'learning_rate': [0.01, 0.015],\n",
    "            'loss': ['absolute_error']}"
   ]
  },
  {
   "cell_type": "code",
   "execution_count": 8,
   "id": "c8f20cb2",
   "metadata": {
    "execution": {
     "iopub.execute_input": "2023-05-17T16:01:16.647692Z",
     "iopub.status.busy": "2023-05-17T16:01:16.647318Z",
     "iopub.status.idle": "2023-05-17T16:01:52.183585Z",
     "shell.execute_reply": "2023-05-17T16:01:52.182027Z"
    },
    "papermill": {
     "duration": 35.545672,
     "end_time": "2023-05-17T16:01:52.186778",
     "exception": false,
     "start_time": "2023-05-17T16:01:16.641106",
     "status": "completed"
    },
    "tags": []
   },
   "outputs": [
    {
     "name": "stdout",
     "output_type": "stream",
     "text": [
      "Fitting 2 folds for each of 8 candidates, totalling 16 fits\n"
     ]
    },
    {
     "name": "stderr",
     "output_type": "stream",
     "text": [
      "/opt/conda/lib/python3.10/site-packages/scipy/__init__.py:146: UserWarning: A NumPy version >=1.16.5 and <1.23.0 is required for this version of SciPy (detected version 1.23.5\n",
      "  warnings.warn(f\"A NumPy version >={np_minversion} and <{np_maxversion}\"\n",
      "/opt/conda/lib/python3.10/site-packages/scipy/__init__.py:146: UserWarning: A NumPy version >=1.16.5 and <1.23.0 is required for this version of SciPy (detected version 1.23.5\n",
      "  warnings.warn(f\"A NumPy version >={np_minversion} and <{np_maxversion}\"\n",
      "/opt/conda/lib/python3.10/site-packages/scipy/__init__.py:146: UserWarning: A NumPy version >=1.16.5 and <1.23.0 is required for this version of SciPy (detected version 1.23.5\n",
      "  warnings.warn(f\"A NumPy version >={np_minversion} and <{np_maxversion}\"\n",
      "/opt/conda/lib/python3.10/site-packages/scipy/__init__.py:146: UserWarning: A NumPy version >=1.16.5 and <1.23.0 is required for this version of SciPy (detected version 1.23.5\n",
      "  warnings.warn(f\"A NumPy version >={np_minversion} and <{np_maxversion}\"\n",
      "/opt/conda/lib/python3.10/site-packages/scipy/__init__.py:146: UserWarning: A NumPy version >=1.16.5 and <1.23.0 is required for this version of SciPy (detected version 1.23.5\n",
      "  warnings.warn(f\"A NumPy version >={np_minversion} and <{np_maxversion}\"\n",
      "/opt/conda/lib/python3.10/site-packages/scipy/__init__.py:146: UserWarning: A NumPy version >=1.16.5 and <1.23.0 is required for this version of SciPy (detected version 1.23.5\n",
      "  warnings.warn(f\"A NumPy version >={np_minversion} and <{np_maxversion}\"\n",
      "/opt/conda/lib/python3.10/site-packages/scipy/__init__.py:146: UserWarning: A NumPy version >=1.16.5 and <1.23.0 is required for this version of SciPy (detected version 1.23.5\n",
      "  warnings.warn(f\"A NumPy version >={np_minversion} and <{np_maxversion}\"\n",
      "/opt/conda/lib/python3.10/site-packages/scipy/__init__.py:146: UserWarning: A NumPy version >=1.16.5 and <1.23.0 is required for this version of SciPy (detected version 1.23.5\n",
      "  warnings.warn(f\"A NumPy version >={np_minversion} and <{np_maxversion}\"\n",
      "/opt/conda/lib/python3.10/site-packages/scipy/__init__.py:146: UserWarning: A NumPy version >=1.16.5 and <1.23.0 is required for this version of SciPy (detected version 1.23.5\n",
      "  warnings.warn(f\"A NumPy version >={np_minversion} and <{np_maxversion}\"\n",
      "/opt/conda/lib/python3.10/site-packages/scipy/__init__.py:146: UserWarning: A NumPy version >=1.16.5 and <1.23.0 is required for this version of SciPy (detected version 1.23.5\n",
      "  warnings.warn(f\"A NumPy version >={np_minversion} and <{np_maxversion}\"\n",
      "/opt/conda/lib/python3.10/site-packages/scipy/__init__.py:146: UserWarning: A NumPy version >=1.16.5 and <1.23.0 is required for this version of SciPy (detected version 1.23.5\n",
      "  warnings.warn(f\"A NumPy version >={np_minversion} and <{np_maxversion}\"\n",
      "/opt/conda/lib/python3.10/site-packages/scipy/__init__.py:146: UserWarning: A NumPy version >=1.16.5 and <1.23.0 is required for this version of SciPy (detected version 1.23.5\n",
      "  warnings.warn(f\"A NumPy version >={np_minversion} and <{np_maxversion}\"\n",
      "/opt/conda/lib/python3.10/site-packages/scipy/__init__.py:146: UserWarning: A NumPy version >=1.16.5 and <1.23.0 is required for this version of SciPy (detected version 1.23.5\n",
      "  warnings.warn(f\"A NumPy version >={np_minversion} and <{np_maxversion}\"\n",
      "/opt/conda/lib/python3.10/site-packages/scipy/__init__.py:146: UserWarning: A NumPy version >=1.16.5 and <1.23.0 is required for this version of SciPy (detected version 1.23.5\n",
      "  warnings.warn(f\"A NumPy version >={np_minversion} and <{np_maxversion}\"\n",
      "/opt/conda/lib/python3.10/site-packages/scipy/__init__.py:146: UserWarning: A NumPy version >=1.16.5 and <1.23.0 is required for this version of SciPy (detected version 1.23.5\n",
      "  warnings.warn(f\"A NumPy version >={np_minversion} and <{np_maxversion}\"\n",
      "/opt/conda/lib/python3.10/site-packages/scipy/__init__.py:146: UserWarning: A NumPy version >=1.16.5 and <1.23.0 is required for this version of SciPy (detected version 1.23.5\n",
      "  warnings.warn(f\"A NumPy version >={np_minversion} and <{np_maxversion}\"\n"
     ]
    },
    {
     "name": "stdout",
     "output_type": "stream",
     "text": [
      "Fitting 2 folds for each of 8 candidates, totalling 16 fits\n"
     ]
    },
    {
     "name": "stderr",
     "output_type": "stream",
     "text": [
      "/opt/conda/lib/python3.10/site-packages/scipy/__init__.py:146: UserWarning: A NumPy version >=1.16.5 and <1.23.0 is required for this version of SciPy (detected version 1.23.5\n",
      "  warnings.warn(f\"A NumPy version >={np_minversion} and <{np_maxversion}\"\n",
      "/opt/conda/lib/python3.10/site-packages/scipy/__init__.py:146: UserWarning: A NumPy version >=1.16.5 and <1.23.0 is required for this version of SciPy (detected version 1.23.5\n",
      "  warnings.warn(f\"A NumPy version >={np_minversion} and <{np_maxversion}\"\n",
      "/opt/conda/lib/python3.10/site-packages/scipy/__init__.py:146: UserWarning: A NumPy version >=1.16.5 and <1.23.0 is required for this version of SciPy (detected version 1.23.5\n",
      "  warnings.warn(f\"A NumPy version >={np_minversion} and <{np_maxversion}\"\n",
      "/opt/conda/lib/python3.10/site-packages/scipy/__init__.py:146: UserWarning: A NumPy version >=1.16.5 and <1.23.0 is required for this version of SciPy (detected version 1.23.5\n",
      "  warnings.warn(f\"A NumPy version >={np_minversion} and <{np_maxversion}\"\n",
      "/opt/conda/lib/python3.10/site-packages/scipy/__init__.py:146: UserWarning: A NumPy version >=1.16.5 and <1.23.0 is required for this version of SciPy (detected version 1.23.5\n",
      "  warnings.warn(f\"A NumPy version >={np_minversion} and <{np_maxversion}\"\n",
      "/opt/conda/lib/python3.10/site-packages/scipy/__init__.py:146: UserWarning: A NumPy version >=1.16.5 and <1.23.0 is required for this version of SciPy (detected version 1.23.5\n",
      "  warnings.warn(f\"A NumPy version >={np_minversion} and <{np_maxversion}\"\n",
      "/opt/conda/lib/python3.10/site-packages/scipy/__init__.py:146: UserWarning: A NumPy version >=1.16.5 and <1.23.0 is required for this version of SciPy (detected version 1.23.5\n",
      "  warnings.warn(f\"A NumPy version >={np_minversion} and <{np_maxversion}\"\n",
      "/opt/conda/lib/python3.10/site-packages/scipy/__init__.py:146: UserWarning: A NumPy version >=1.16.5 and <1.23.0 is required for this version of SciPy (detected version 1.23.5\n",
      "  warnings.warn(f\"A NumPy version >={np_minversion} and <{np_maxversion}\"\n",
      "/opt/conda/lib/python3.10/site-packages/scipy/__init__.py:146: UserWarning: A NumPy version >=1.16.5 and <1.23.0 is required for this version of SciPy (detected version 1.23.5\n",
      "  warnings.warn(f\"A NumPy version >={np_minversion} and <{np_maxversion}\"\n",
      "/opt/conda/lib/python3.10/site-packages/scipy/__init__.py:146: UserWarning: A NumPy version >=1.16.5 and <1.23.0 is required for this version of SciPy (detected version 1.23.5\n",
      "  warnings.warn(f\"A NumPy version >={np_minversion} and <{np_maxversion}\"\n",
      "/opt/conda/lib/python3.10/site-packages/scipy/__init__.py:146: UserWarning: A NumPy version >=1.16.5 and <1.23.0 is required for this version of SciPy (detected version 1.23.5\n",
      "  warnings.warn(f\"A NumPy version >={np_minversion} and <{np_maxversion}\"\n",
      "/opt/conda/lib/python3.10/site-packages/scipy/__init__.py:146: UserWarning: A NumPy version >=1.16.5 and <1.23.0 is required for this version of SciPy (detected version 1.23.5\n",
      "  warnings.warn(f\"A NumPy version >={np_minversion} and <{np_maxversion}\"\n",
      "/opt/conda/lib/python3.10/site-packages/scipy/__init__.py:146: UserWarning: A NumPy version >=1.16.5 and <1.23.0 is required for this version of SciPy (detected version 1.23.5\n",
      "  warnings.warn(f\"A NumPy version >={np_minversion} and <{np_maxversion}\"\n",
      "/opt/conda/lib/python3.10/site-packages/scipy/__init__.py:146: UserWarning: A NumPy version >=1.16.5 and <1.23.0 is required for this version of SciPy (detected version 1.23.5\n",
      "  warnings.warn(f\"A NumPy version >={np_minversion} and <{np_maxversion}\"\n"
     ]
    },
    {
     "name": "stdout",
     "output_type": "stream",
     "text": [
      "Fitting 2 folds for each of 8 candidates, totalling 16 fits\n",
      "Fitting 2 folds for each of 8 candidates, totalling 16 fits\n"
     ]
    }
   ],
   "source": [
    "# Empty dictionary \n",
    "models = {}\n",
    "# Response variable names\n",
    "target = [\"updrs_1\", \"updrs_2\", \"updrs_3\", \"updrs_4\"]\n",
    "\n",
    "# Loop to train a model for each of response\n",
    "for u in target: \n",
    "    # Drop NA values in current response target \n",
    "    temp = train.dropna(subset = [u])\n",
    "    \n",
    "    # visit_month as sole predictor\n",
    "    X = temp['visit_month']\n",
    "    y = temp[u]\n",
    "    \n",
    "    # Model\n",
    "    xgb = GridSearchCV(estimator = GradientBoostingRegressor(), param_grid = xgb_grid, \n",
    "        cv = 2, n_jobs = 30, verbose = 2)\n",
    "    \n",
    "    trained = xgb.fit(X.values.reshape(-1, 1), y)\n",
    "    \n",
    "    models[u] = trained.best_estimator_\n"
   ]
  },
  {
   "cell_type": "code",
   "execution_count": 9,
   "id": "2ab5ec84",
   "metadata": {
    "execution": {
     "iopub.execute_input": "2023-05-17T16:01:52.202129Z",
     "iopub.status.busy": "2023-05-17T16:01:52.200841Z",
     "iopub.status.idle": "2023-05-17T16:01:52.212115Z",
     "shell.execute_reply": "2023-05-17T16:01:52.211058Z"
    },
    "papermill": {
     "duration": 0.021853,
     "end_time": "2023-05-17T16:01:52.214822",
     "exception": false,
     "start_time": "2023-05-17T16:01:52.192969",
     "status": "completed"
    },
    "tags": []
   },
   "outputs": [],
   "source": [
    "# Prediction and Formatting Function \n",
    "def get_prediction(train, models):\n",
    "    \n",
    "    # Fill NAs\n",
    "    train = train.fillna(0)\n",
    "    \n",
    "    for u in target:\n",
    "        # Add results column \n",
    "        train['result_' + str(u)] = 0\n",
    "        \n",
    "        # Extract predictor\n",
    "        X = train['visit_month']\n",
    "        \n",
    "        # Make predictions \n",
    "        train['result_' + str(u)] = models[u].predict(X.values.reshape(-1, 1))\n",
    "        \n",
    "    # Formatting \n",
    "    \n",
    "    # Empty DF to store results. \n",
    "    result = pd.DataFrame()\n",
    "    \n",
    "    # Loop over months \n",
    "    for m in [0, 6, 12, 24]:\n",
    "        # Loop over responses \n",
    "        for u in [1, 2, 3, 4]:\n",
    "\n",
    "            temp = train[[\"visit_id\", \"result_updrs_\" + str(u)]]\n",
    "            temp[\"prediction_id\"] = temp[\"visit_id\"] + \"_updrs_\" + str(u) + \"_plus_\" + str(m) + \"_months\"\n",
    "            temp[\"rating\"] = temp[\"result_updrs_\" + str(u)]\n",
    "            temp = temp [['prediction_id', 'rating']]\n",
    "\n",
    "            result = pd.concat([result, temp])            \n",
    "    result = result.drop_duplicates(subset=['prediction_id', 'rating'])\n",
    "\n",
    "    return result\n",
    "    "
   ]
  },
  {
   "cell_type": "code",
   "execution_count": 10,
   "id": "729fb412",
   "metadata": {
    "execution": {
     "iopub.execute_input": "2023-05-17T16:01:52.229377Z",
     "iopub.status.busy": "2023-05-17T16:01:52.228371Z",
     "iopub.status.idle": "2023-05-17T16:01:52.452756Z",
     "shell.execute_reply": "2023-05-17T16:01:52.451956Z"
    },
    "papermill": {
     "duration": 0.233978,
     "end_time": "2023-05-17T16:01:52.455151",
     "exception": false,
     "start_time": "2023-05-17T16:01:52.221173",
     "status": "completed"
    },
    "tags": []
   },
   "outputs": [
    {
     "data": {
      "text/html": [
       "<div>\n",
       "<style scoped>\n",
       "    .dataframe tbody tr th:only-of-type {\n",
       "        vertical-align: middle;\n",
       "    }\n",
       "\n",
       "    .dataframe tbody tr th {\n",
       "        vertical-align: top;\n",
       "    }\n",
       "\n",
       "    .dataframe thead th {\n",
       "        text-align: right;\n",
       "    }\n",
       "</style>\n",
       "<table border=\"1\" class=\"dataframe\">\n",
       "  <thead>\n",
       "    <tr style=\"text-align: right;\">\n",
       "      <th></th>\n",
       "      <th>prediction_id</th>\n",
       "      <th>rating</th>\n",
       "    </tr>\n",
       "  </thead>\n",
       "  <tbody>\n",
       "    <tr>\n",
       "      <th>0</th>\n",
       "      <td>55_0_updrs_1_plus_0_months</td>\n",
       "      <td>5.000000</td>\n",
       "    </tr>\n",
       "    <tr>\n",
       "      <th>1</th>\n",
       "      <td>55_3_updrs_1_plus_0_months</td>\n",
       "      <td>4.732303</td>\n",
       "    </tr>\n",
       "    <tr>\n",
       "      <th>2</th>\n",
       "      <td>55_6_updrs_1_plus_0_months</td>\n",
       "      <td>5.000000</td>\n",
       "    </tr>\n",
       "    <tr>\n",
       "      <th>3</th>\n",
       "      <td>55_9_updrs_1_plus_0_months</td>\n",
       "      <td>5.000000</td>\n",
       "    </tr>\n",
       "    <tr>\n",
       "      <th>4</th>\n",
       "      <td>55_12_updrs_1_plus_0_months</td>\n",
       "      <td>5.000000</td>\n",
       "    </tr>\n",
       "    <tr>\n",
       "      <th>...</th>\n",
       "      <td>...</td>\n",
       "      <td>...</td>\n",
       "    </tr>\n",
       "    <tr>\n",
       "      <th>2218</th>\n",
       "      <td>65382_0_updrs_4_plus_24_months</td>\n",
       "      <td>0.000000</td>\n",
       "    </tr>\n",
       "    <tr>\n",
       "      <th>2219</th>\n",
       "      <td>65405_0_updrs_4_plus_24_months</td>\n",
       "      <td>0.000000</td>\n",
       "    </tr>\n",
       "    <tr>\n",
       "      <th>2220</th>\n",
       "      <td>65405_5_updrs_4_plus_24_months</td>\n",
       "      <td>0.000000</td>\n",
       "    </tr>\n",
       "    <tr>\n",
       "      <th>2221</th>\n",
       "      <td>65530_0_updrs_4_plus_24_months</td>\n",
       "      <td>0.000000</td>\n",
       "    </tr>\n",
       "    <tr>\n",
       "      <th>2222</th>\n",
       "      <td>65530_36_updrs_4_plus_24_months</td>\n",
       "      <td>0.000000</td>\n",
       "    </tr>\n",
       "  </tbody>\n",
       "</table>\n",
       "<p>77408 rows × 2 columns</p>\n",
       "</div>"
      ],
      "text/plain": [
       "                        prediction_id    rating\n",
       "0          55_0_updrs_1_plus_0_months  5.000000\n",
       "1          55_3_updrs_1_plus_0_months  4.732303\n",
       "2          55_6_updrs_1_plus_0_months  5.000000\n",
       "3          55_9_updrs_1_plus_0_months  5.000000\n",
       "4         55_12_updrs_1_plus_0_months  5.000000\n",
       "...                               ...       ...\n",
       "2218   65382_0_updrs_4_plus_24_months  0.000000\n",
       "2219   65405_0_updrs_4_plus_24_months  0.000000\n",
       "2220   65405_5_updrs_4_plus_24_months  0.000000\n",
       "2221   65530_0_updrs_4_plus_24_months  0.000000\n",
       "2222  65530_36_updrs_4_plus_24_months  0.000000\n",
       "\n",
       "[77408 rows x 2 columns]"
      ]
     },
     "execution_count": 10,
     "metadata": {},
     "output_type": "execute_result"
    }
   ],
   "source": [
    "train_preds = get_prediction(train, models)\n",
    "train_preds"
   ]
  },
  {
   "cell_type": "code",
   "execution_count": 11,
   "id": "a092d579",
   "metadata": {
    "execution": {
     "iopub.execute_input": "2023-05-17T16:01:52.471835Z",
     "iopub.status.busy": "2023-05-17T16:01:52.470654Z",
     "iopub.status.idle": "2023-05-17T16:01:52.507399Z",
     "shell.execute_reply": "2023-05-17T16:01:52.506356Z"
    },
    "papermill": {
     "duration": 0.048266,
     "end_time": "2023-05-17T16:01:52.510396",
     "exception": false,
     "start_time": "2023-05-17T16:01:52.462130",
     "status": "completed"
    },
    "tags": []
   },
   "outputs": [],
   "source": [
    "import amp_pd_peptide_310\n",
    "amp_pd_peptide_310.make_env.func_dict['__called__'] = False\n",
    "env = amp_pd_peptide_310.make_env()\n",
    "iter_test = env.iter_test()"
   ]
  },
  {
   "cell_type": "code",
   "execution_count": 12,
   "id": "358a7692",
   "metadata": {
    "execution": {
     "iopub.execute_input": "2023-05-17T16:01:52.525778Z",
     "iopub.status.busy": "2023-05-17T16:01:52.525389Z",
     "iopub.status.idle": "2023-05-17T16:01:52.707144Z",
     "shell.execute_reply": "2023-05-17T16:01:52.705548Z"
    },
    "papermill": {
     "duration": 0.192631,
     "end_time": "2023-05-17T16:01:52.709844",
     "exception": false,
     "start_time": "2023-05-17T16:01:52.517213",
     "status": "completed"
    },
    "tags": []
   },
   "outputs": [
    {
     "name": "stdout",
     "output_type": "stream",
     "text": [
      "This version of the API is not optimized and should not be used to estimate the runtime of your code on the hidden test set.\n",
      "                   prediction_id     rating\n",
      "0   3342_0_updrs_1_plus_0_months   5.000000\n",
      "4  50423_0_updrs_1_plus_0_months   5.000000\n",
      "0   3342_0_updrs_2_plus_0_months   4.668972\n",
      "4  50423_0_updrs_2_plus_0_months   4.668972\n",
      "0   3342_0_updrs_3_plus_0_months  18.746929\n",
      "                   prediction_id     rating\n",
      "0   3342_6_updrs_1_plus_0_months   5.000000\n",
      "4  50423_6_updrs_1_plus_0_months   5.000000\n",
      "0   3342_6_updrs_2_plus_0_months   5.331028\n",
      "4  50423_6_updrs_2_plus_0_months   5.331028\n",
      "0   3342_6_updrs_3_plus_0_months  20.000000\n"
     ]
    }
   ],
   "source": [
    "for (test, test_peptides, test_proteins, sample_submission) in iter_test:\n",
    "    \n",
    "    result = get_prediction(test, models)\n",
    "    \n",
    "    print(result.head())\n",
    "    \n",
    "    env.predict(result)\n",
    "    "
   ]
  }
 ],
 "metadata": {
  "kernelspec": {
   "display_name": "Python 3",
   "language": "python",
   "name": "python3"
  },
  "language_info": {
   "codemirror_mode": {
    "name": "ipython",
    "version": 3
   },
   "file_extension": ".py",
   "mimetype": "text/x-python",
   "name": "python",
   "nbconvert_exporter": "python",
   "pygments_lexer": "ipython3",
   "version": "3.10.10"
  },
  "papermill": {
   "default_parameters": {},
   "duration": 55.210268,
   "end_time": "2023-05-17T16:01:55.339478",
   "environment_variables": {},
   "exception": null,
   "input_path": "__notebook__.ipynb",
   "output_path": "__notebook__.ipynb",
   "parameters": {},
   "start_time": "2023-05-17T16:01:00.129210",
   "version": "2.4.0"
  }
 },
 "nbformat": 4,
 "nbformat_minor": 5
}
